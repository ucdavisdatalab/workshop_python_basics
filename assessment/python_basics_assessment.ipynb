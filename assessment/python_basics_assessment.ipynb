{
 "cells": [
  {
   "cell_type": "markdown",
   "id": "23e3d5d8-4d11-4623-9832-42f3d589fd20",
   "metadata": {},
   "source": [
    "Instructions:\n",
    "\n",
    "Write your code solutions to the problems in the cells directly below the questions. If the problem indicates a text response, use a markdown cell."
   ]
  },
  {
   "cell_type": "markdown",
   "id": "f8ba239f-c390-49d9-8afd-3df9bd293059",
   "metadata": {},
   "source": [
    "## Day 2 - Pandas\n",
    "\n",
    "Learning Objectives:\n",
    "- Load a DataFrame from a CSV file\n",
    "- Inspect the structure of DataFrame\n",
    "- Learn Python and Pandas data types\n",
    "- Index Series using integer position, labels, and Booleans\n",
    "- Index DataFrames using integer position, labels, and Booleans\n",
    "- Find and remove missing values in a Series and DataFrame"
   ]
  },
  {
   "cell_type": "markdown",
   "id": "e03f6e05-2c1c-42e3-ac8e-bcd2e2ee6d91",
   "metadata": {},
   "source": [
    "#### Exercise 2.1\n",
    "\n",
    "Download the city parks data set from GitHub ([link][parks]) onto your computer. Then use pandas to load the CSV into a data frame called `parks`.\n",
    "\n",
    "The questions for day 2 and day 3 use this data set.\n",
    "\n",
    "[parks]: https://raw.githubusercontent.com/ucdavisdatalab/workshop_python_basics/main/data/parks_final.csv"
   ]
  },
  {
   "cell_type": "code",
   "execution_count": null,
   "id": "8e3f7a5e-4876-4c3a-a2e4-f095e1111f0c",
   "metadata": {
    "tags": []
   },
   "outputs": [],
   "source": []
  },
  {
   "cell_type": "markdown",
   "id": "7200a0fe-8d01-4dfd-89b5-d55ddd1e2d0b",
   "metadata": {},
   "source": [
    "#### Exercise 2.2\n",
    "\n",
    "Display the first fifteen rows of the parks data frame."
   ]
  },
  {
   "cell_type": "code",
   "execution_count": null,
   "id": "73d67992-f99b-4810-ac94-5530aade10a5",
   "metadata": {},
   "outputs": [],
   "source": []
  },
  {
   "cell_type": "markdown",
   "id": "75ea7086-a5ca-41a7-8a59-0d193459efbf",
   "metadata": {},
   "source": [
    "#### Excercise 2.3\n",
    "\n",
    "Display the counts of each unique value of the parks' `state` column."
   ]
  },
  {
   "cell_type": "code",
   "execution_count": null,
   "id": "d4b87e57-3e56-4ce6-8d01-cd54fa45fbb7",
   "metadata": {},
   "outputs": [],
   "source": []
  },
  {
   "cell_type": "markdown",
   "id": "84cf070d-8ec6-4565-a693-cae053495ae0",
   "metadata": {},
   "source": [
    "#### Excercise 2.4\n",
    "\n",
    "Subset the parks dataframe to get only the rows for cities with a 2020 population greater than 500k. The population for 2020 is stored in the `pop2020` column of the dataset."
   ]
  },
  {
   "cell_type": "code",
   "execution_count": null,
   "id": "618737dc-ce95-4087-8205-698fcf26af87",
   "metadata": {},
   "outputs": [],
   "source": []
  },
  {
   "cell_type": "markdown",
   "id": "0e3ec748-38ae-4f40-b2db-1ec0ff6fa17b",
   "metadata": {},
   "source": [
    "#### Exercise 2.5\n",
    "\n",
    "Subset the parks dataframe to get only the rows for parks in Oregon for the year 2012."
   ]
  },
  {
   "cell_type": "code",
   "execution_count": null,
   "id": "1d30d0a5-0908-43d9-9cf4-ea406fe355c9",
   "metadata": {},
   "outputs": [],
   "source": []
  },
  {
   "cell_type": "markdown",
   "id": "f326f9e4-09b4-423c-8b3c-f4e678f98efe",
   "metadata": {},
   "source": [
    "#### Exercise 2.6\n",
    "\n",
    "Subset the parks dataframe to keep only the rows with the following integer indexes: `0`, `304`, `333`, `17`. Save this subset to a CSV file called `parks_subset.csv`."
   ]
  },
  {
   "cell_type": "code",
   "execution_count": null,
   "id": "901f1435-8854-4993-bf90-a35dd3b8f325",
   "metadata": {},
   "outputs": [],
   "source": []
  },
  {
   "cell_type": "markdown",
   "id": "62641825-6f2e-4c33-b743-d5806c945b90",
   "metadata": {},
   "source": [
    "## Day 3 - Summarizing Data\n",
    "\n",
    "Learning Objectives:\n",
    "- Write functions to organize and encapsulate reusable code\n",
    "- Map a function over data frame columns\n",
    "- Map a function over grouped data frame rows\n",
    "- Describe the popular data visualization packages for Python\n",
    "- Use the grammar of graphics to create a visualization\n",
    "- Save a visualization to a file"
   ]
  },
  {
   "cell_type": "markdown",
   "id": "1e53beb7-1955-4440-bf29-642d4cd09d72",
   "metadata": {},
   "source": [
    "#### Exercise 3.1\n",
    "\n",
    "The `playground_data` column is the number of playgrounds per 10,000 residents. Use pandas to compute the mean, median, and standard deviation of the number of playgrounds per 10,000 residents."
   ]
  },
  {
   "cell_type": "code",
   "execution_count": null,
   "id": "e2bf8754-bf01-47a5-a6ec-ae8fe4b0a5f8",
   "metadata": {},
   "outputs": [],
   "source": []
  },
  {
   "cell_type": "markdown",
   "id": "79869b75-33a3-4b73-be2d-b5e41dbefe3b",
   "metadata": {},
   "source": [
    "#### Exercise 3.2\n",
    "\n",
    "Compute the mean, median, and standard deviation of the number of playgrounds per 10,000 grouped by year. Which year has the highest mean?"
   ]
  },
  {
   "cell_type": "code",
   "execution_count": null,
   "id": "a1826416-617d-4002-8c75-6373ce5184eb",
   "metadata": {},
   "outputs": [],
   "source": []
  },
  {
   "cell_type": "markdown",
   "id": "18cd2369-429e-492e-9597-368fc5987b82",
   "metadata": {},
   "source": [
    "#### Exercise 3.3\n",
    "\n",
    "Use plotnine to make a bar plot with years on the x-axis and the means from exercise 3.2 on the y-axis. Make sure the plot has nicely formatted axis labels and a title.\n",
    "\n",
    "_Hint 1: Make sure the year is a column rather than an index in your result from exercise 3.2._\n",
    "\n",
    "_Hint 2: By default, `geom_bar` computes and displays frequencies on the y-axis. Use `stat = \"identity\"` to make it display values that have already been computed instead._"
   ]
  },
  {
   "cell_type": "code",
   "execution_count": null,
   "id": "6059c4f6-46c7-45a0-b0b8-1625d6af08e5",
   "metadata": {},
   "outputs": [],
   "source": []
  },
  {
   "cell_type": "markdown",
   "id": "2ece2f24-0bfd-4d15-b4a0-2c17e73dd9dd",
   "metadata": {},
   "source": [
    "#### Exercise 4.4\n",
    "\n",
    "Use plotnine to make a scatter plot **for 2019** of median park size in acres versus number of restrooms per 10,000 residents. Make sure the plot has nicely formatted axis labels and a title.\n",
    "\n",
    "_Hint: See the [data description][parks] to find the appropriate columns._\n",
    "\n",
    "[parks]: https://github.com/rfordatascience/tidytuesday/tree/master/data/2021/2021-06-22"
   ]
  },
  {
   "cell_type": "code",
   "execution_count": null,
   "id": "594822f2-f2cd-4af6-b7f9-d96d05c901fe",
   "metadata": {},
   "outputs": [],
   "source": []
  },
  {
   "cell_type": "markdown",
   "id": "f62aaf85-0135-4f8c-b9a6-9c17f206a900",
   "metadata": {
    "tags": []
   },
   "source": [
    "## Day 4 - Non-tabular Data\n",
    "\n",
    "Learning Objectives:\n",
    "- Create and access elements of tuples\n",
    "- Create and access elements of dictionaries\n",
    "- Explain what HTTP is, including request methods\n",
    "- Use the requests package to make HTTP requests\n",
    "- Explain what a web API is\n",
    "- Load and access elements of JSON data\n",
    "- Write loops to do things repeatedly\n",
    "- Write comprehensions to do things repeatedly\n",
    "- Save data to a CSV or other file format"
   ]
  },
  {
   "cell_type": "markdown",
   "id": "30702433-5be2-4e19-8093-f97a1667b4ca",
   "metadata": {},
   "source": [
    "#### Exercise 4.1\n",
    "\n",
    "Create a list with four elements, a string, an int, a float, and a bool."
   ]
  },
  {
   "cell_type": "code",
   "execution_count": null,
   "id": "fa3a4ad5-71e5-46da-b762-78b1efa1f65d",
   "metadata": {},
   "outputs": [],
   "source": []
  },
  {
   "cell_type": "markdown",
   "id": "57895fba-22e3-4198-83fd-1f6564894300",
   "metadata": {},
   "source": [
    "#### Exercise 4.2\n",
    "\n",
    "Remove the last element from the list in exercise 4.1."
   ]
  },
  {
   "cell_type": "code",
   "execution_count": null,
   "id": "8c25bd4d-32c7-4fcc-a9ca-bc9a123139db",
   "metadata": {},
   "outputs": [],
   "source": []
  },
  {
   "cell_type": "markdown",
   "id": "7d898a0e-f912-41ff-b938-5e63d909f545",
   "metadata": {},
   "source": [
    "#### Exercise 4.3\n",
    "\n",
    "Write a function that uses a loop to print out each element in a list.\n",
    "\n",
    "_Hint: the function can `return None`._"
   ]
  },
  {
   "cell_type": "code",
   "execution_count": null,
   "id": "64672961-fc70-44c8-bf62-3bc52b0b199a",
   "metadata": {},
   "outputs": [],
   "source": []
  },
  {
   "cell_type": "markdown",
   "id": "49f055c7-bc98-4ad1-bdaf-370fc513cbec",
   "metadata": {},
   "source": [
    "#### Exercise 4.4\n",
    "\n",
    "Write a function which accepts a list as input and uses a loop to compute and return a list of the types of the elements."
   ]
  },
  {
   "cell_type": "code",
   "execution_count": null,
   "id": "42e6246e-574d-4199-9d44-7e014a9b1768",
   "metadata": {},
   "outputs": [],
   "source": []
  },
  {
   "cell_type": "markdown",
   "id": "bf8c5138-edaa-425b-91df-e364319abd1c",
   "metadata": {},
   "source": [
    "#### Exercise 4.5\n",
    "\n",
    "Repeat exercise 4.4 using a list comprehension instead of a function and loop."
   ]
  },
  {
   "cell_type": "code",
   "execution_count": null,
   "id": "3afdb0e9-bdc5-4c49-8b40-ca4057b68cf0",
   "metadata": {},
   "outputs": [],
   "source": []
  },
  {
   "cell_type": "markdown",
   "id": "6de60f60-576c-469a-8f6c-c94279b7b339",
   "metadata": {},
   "source": [
    "#### Exercise 4.6\n",
    "\n",
    "Use the requests package to download the JSON data for C-3P0 (ID 2) from the Star Wars API (https://swapi.py4e.com/)."
   ]
  },
  {
   "cell_type": "code",
   "execution_count": null,
   "id": "94fdbe92-596c-47db-a660-1eb2065905c5",
   "metadata": {},
   "outputs": [],
   "source": []
  },
  {
   "cell_type": "markdown",
   "id": "23dfb400-9370-40e1-b325-8fbaf386fb43",
   "metadata": {},
   "source": [
    "#### Exercise 4.7\n",
    "\n",
    "Write a function which takes a film ID (for the Star Wars API) as input and returns the title."
   ]
  },
  {
   "cell_type": "code",
   "execution_count": null,
   "id": "008d07f0-032a-49d3-b546-3ca2d676d61a",
   "metadata": {},
   "outputs": [],
   "source": []
  },
  {
   "cell_type": "markdown",
   "id": "d7283553-10b0-408d-9003-bc5b18f6ad9b",
   "metadata": {},
   "source": [
    "#### Exercise 4.8\n",
    "\n",
    "Create a pandas series containing the diameters of planets 1-10. Make sure to specify 'float' as the data type.\n",
    "\n",
    "_Hint Follow the loop style in 4.4 that adds time between each request_"
   ]
  },
  {
   "cell_type": "code",
   "execution_count": null,
   "id": "af4ee082-7d69-488f-a952-b99abfdf3aed",
   "metadata": {},
   "outputs": [],
   "source": []
  }
 ],
 "metadata": {
  "kernelspec": {
   "display_name": "Python 3 (ipykernel)",
   "language": "python",
   "name": "python3"
  },
  "language_info": {
   "codemirror_mode": {
    "name": "ipython",
    "version": 3
   },
   "file_extension": ".py",
   "mimetype": "text/x-python",
   "name": "python",
   "nbconvert_exporter": "python",
   "pygments_lexer": "ipython3",
   "version": "3.9.6"
  }
 },
 "nbformat": 4,
 "nbformat_minor": 5
}
