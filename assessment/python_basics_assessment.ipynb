{
 "cells": [
  {
   "cell_type": "markdown",
   "id": "23e3d5d8-4d11-4623-9832-42f3d589fd20",
   "metadata": {},
   "source": [
    "Instructions:\n",
    "\n",
    "Write your code solutions to the problems in the cells directly below the questions. If the problem indicates a text response, use a markdown cell."
   ]
  },
  {
   "cell_type": "markdown",
   "id": "f8ba239f-c390-49d9-8afd-3df9bd293059",
   "metadata": {},
   "source": [
    "## Day 2 - Data Structures\n",
    "\n",
    "Learning Objectives:\n",
    "* Create Pandas Series, NumPy arrays, lists, and tuples\n",
    "* Check the type and class of an object\n",
    "* Convert an object into a different type\n",
    "* Describe and differentiate `None`, `NA`, and `NaN`\n",
    "* Index sequences with empty, integer, string, and logical arguments\n",
    "* Negate or combine conditions with logic operations\n",
    "* Subset Series objects and DataFrames\n",
    "* Find and remove missing values in a DataFrame and Series"
   ]
  },
  {
   "cell_type": "markdown",
   "id": "e03f6e05-2c1c-42e3-ac8e-bcd2e2ee6d91",
   "metadata": {},
   "source": [
    "#### Exercise 2.1\n",
    "\n",
    "Download the city parks data set from GitHub ([link][parks]) onto your computer. Then use pandas to load the CSV into a data frame called `parks`.\n",
    "\n",
    "The questions for day 2 and day 3 use this data set.\n",
    "\n",
    "[parks]: https://raw.githubusercontent.com/ucdavisdatalab/workshop_python_basics/main/data/parks_final.csv"
   ]
  },
  {
   "cell_type": "code",
   "execution_count": null,
   "id": "8e3f7a5e-4876-4c3a-a2e4-f095e1111f0c",
   "metadata": {
    "tags": []
   },
   "outputs": [],
   "source": []
  },
  {
   "cell_type": "markdown",
   "id": "7200a0fe-8d01-4dfd-89b5-d55ddd1e2d0b",
   "metadata": {},
   "source": [
    "#### Exercise 2.2\n",
    "\n",
    "Display the first fifteen rows of the parks data frame."
   ]
  },
  {
   "cell_type": "code",
   "execution_count": null,
   "id": "73d67992-f99b-4810-ac94-5530aade10a5",
   "metadata": {},
   "outputs": [],
   "source": []
  },
  {
   "cell_type": "markdown",
   "id": "75ea7086-a5ca-41a7-8a59-0d193459efbf",
   "metadata": {},
   "source": [
    "#### Excercise 2.3\n",
    "\n",
    "Display the counts of each unique value of the parks' `state` column."
   ]
  },
  {
   "cell_type": "code",
   "execution_count": null,
   "id": "d4b87e57-3e56-4ce6-8d01-cd54fa45fbb7",
   "metadata": {},
   "outputs": [],
   "source": []
  },
  {
   "cell_type": "markdown",
   "id": "84cf070d-8ec6-4565-a693-cae053495ae0",
   "metadata": {},
   "source": [
    "#### Excercise 2.4\n",
    "\n",
    "Subset the parks dataframe to get only the rows for cities with a 2020 population greater than 500k. The population for 2020 is stored in the `pop2020` column of the dataset."
   ]
  },
  {
   "cell_type": "code",
   "execution_count": null,
   "id": "618737dc-ce95-4087-8205-698fcf26af87",
   "metadata": {},
   "outputs": [],
   "source": []
  },
  {
   "cell_type": "markdown",
   "id": "0e3ec748-38ae-4f40-b2db-1ec0ff6fa17b",
   "metadata": {},
   "source": [
    "#### Exercise 2.5\n",
    "\n",
    "Subset the parks dataframe to get only the rows for parks in Oregon for the year 2012."
   ]
  },
  {
   "cell_type": "code",
   "execution_count": null,
   "id": "1d30d0a5-0908-43d9-9cf4-ea406fe355c9",
   "metadata": {},
   "outputs": [],
   "source": []
  },
  {
   "cell_type": "markdown",
   "id": "f326f9e4-09b4-423c-8b3c-f4e678f98efe",
   "metadata": {},
   "source": [
    "#### Exercise 2.6\n",
    "\n",
    "Subset the parks dataframe to keep only the rows with the following integer indexes: `0`, `304`, `333`, `17`. Save this subset to a CSV file called `parks_subset.csv`."
   ]
  },
  {
   "cell_type": "code",
   "execution_count": null,
   "id": "901f1435-8854-4993-bf90-a35dd3b8f325",
   "metadata": {},
   "outputs": [],
   "source": []
  },
  {
   "cell_type": "markdown",
   "id": "62641825-6f2e-4c33-b743-d5806c945b90",
   "metadata": {},
   "source": [
    "## Day 3 - Exploring Data\n",
    "\n",
    "Learning Objectives:\n",
    "* Describe how Python iterates over data\n",
    "* Write loops to do things repeatedly\n",
    "* Write list comprehensions to do things repeatedly\n",
    "* Use Pandas aggregation methods to explore a data set\n",
    "* Prepare data for visualization\n",
    "* Describe the grammar of graphics\n",
    "* Use the grammar of graphics to produce a plot\n",
    "* Identify where to go to learn more about making effective visualizations"
   ]
  },
  {
   "cell_type": "markdown",
   "id": "1e53beb7-1955-4440-bf29-642d4cd09d72",
   "metadata": {},
   "source": [
    "#### Exercise 3.1\n",
    "\n",
    "The `playground_data` column is the number of playgrounds per 10,000 residents. Use pandas to compute the mean, median, and standard deviation of the number of playgrounds per 10,000 residents."
   ]
  },
  {
   "cell_type": "code",
   "execution_count": null,
   "id": "e2bf8754-bf01-47a5-a6ec-ae8fe4b0a5f8",
   "metadata": {},
   "outputs": [],
   "source": []
  },
  {
   "cell_type": "markdown",
   "id": "79869b75-33a3-4b73-be2d-b5e41dbefe3b",
   "metadata": {},
   "source": [
    "#### Exercise 3.2\n",
    "\n",
    "Compute the mean, median, and standard deviation of the number of playgrounds per 10,000 grouped by year. Which year has the highest mean?"
   ]
  },
  {
   "cell_type": "code",
   "execution_count": null,
   "id": "a1826416-617d-4002-8c75-6373ce5184eb",
   "metadata": {},
   "outputs": [],
   "source": []
  },
  {
   "cell_type": "markdown",
   "id": "18cd2369-429e-492e-9597-368fc5987b82",
   "metadata": {},
   "source": [
    "#### Exercise 3.3\n",
    "\n",
    "Use plotnine to make a bar plot with years on the x-axis and the means from exercise 3.2 on the y-axis. Make sure the plot has nicely formatted axis labels and a title.\n",
    "\n",
    "_Hint 1: Make sure the year is a column rather than an index in your result from exercise 3.2._\n",
    "\n",
    "_Hint 2: By default, `geom_bar` computes and displays frequencies on the y-axis. Use `stat = \"identity\"` to make it display values that have already been computed instead._"
   ]
  },
  {
   "cell_type": "code",
   "execution_count": null,
   "id": "6059c4f6-46c7-45a0-b0b8-1625d6af08e5",
   "metadata": {},
   "outputs": [],
   "source": []
  },
  {
   "cell_type": "markdown",
   "id": "2ece2f24-0bfd-4d15-b4a0-2c17e73dd9dd",
   "metadata": {},
   "source": [
    "#### Exercise 4.4\n",
    "\n",
    "Use plotnine to make a scatter plot **for 2019** of median park size in acres versus number of restrooms per 10,000 residents. Make sure the plot has nicely formatted axis labels and a title.\n",
    "\n",
    "_Hint: See the [data description][parks] to find the appropriate columns._\n",
    "\n",
    "[parks]: https://github.com/rfordatascience/tidytuesday/tree/master/data/2021/2021-06-22"
   ]
  },
  {
   "cell_type": "code",
   "execution_count": null,
   "id": "594822f2-f2cd-4af6-b7f9-d96d05c901fe",
   "metadata": {},
   "outputs": [],
   "source": []
  },
  {
   "cell_type": "markdown",
   "id": "f62aaf85-0135-4f8c-b9a6-9c17f206a900",
   "metadata": {
    "tags": []
   },
   "source": [
    "## Day 4 - Organizing Code\n",
    "\n",
    "Learning Objectives:\n",
    "* Create code that only runs when a condition is satisfied\n",
    "* Write functions to organize and encapsulate reusable code"
   ]
  },
  {
   "cell_type": "markdown",
   "id": "30702433-5be2-4e19-8093-f97a1667b4ca",
   "metadata": {},
   "source": [
    "#### Exercise 4.1\n",
    "\n",
    "Create a list with four elements, a string, an int, a float, and a bool."
   ]
  },
  {
   "cell_type": "code",
   "execution_count": null,
   "id": "fa3a4ad5-71e5-46da-b762-78b1efa1f65d",
   "metadata": {},
   "outputs": [],
   "source": []
  },
  {
   "cell_type": "markdown",
   "id": "57895fba-22e3-4198-83fd-1f6564894300",
   "metadata": {},
   "source": [
    "#### Exercise 4.2\n",
    "\n",
    "Remove the last element from the list in exercise 4.1."
   ]
  },
  {
   "cell_type": "code",
   "execution_count": null,
   "id": "8c25bd4d-32c7-4fcc-a9ca-bc9a123139db",
   "metadata": {},
   "outputs": [],
   "source": []
  },
  {
   "cell_type": "markdown",
   "id": "7d898a0e-f912-41ff-b938-5e63d909f545",
   "metadata": {},
   "source": [
    "#### Exercise 4.3\n",
    "\n",
    "Write a function that uses a loop to print out each element in a list.\n",
    "\n",
    "_Hint: the function can `return None`._"
   ]
  },
  {
   "cell_type": "code",
   "execution_count": null,
   "id": "64672961-fc70-44c8-bf62-3bc52b0b199a",
   "metadata": {},
   "outputs": [],
   "source": []
  },
  {
   "cell_type": "markdown",
   "id": "49f055c7-bc98-4ad1-bdaf-370fc513cbec",
   "metadata": {},
   "source": [
    "#### Exercise 4.4\n",
    "\n",
    "Write a function which accepts a list as input and uses a loop to compute and return a list of the types of the elements."
   ]
  },
  {
   "cell_type": "code",
   "execution_count": null,
   "id": "42e6246e-574d-4199-9d44-7e014a9b1768",
   "metadata": {},
   "outputs": [],
   "source": []
  },
  {
   "cell_type": "markdown",
   "id": "bf8c5138-edaa-425b-91df-e364319abd1c",
   "metadata": {},
   "source": [
    "#### Exercise 4.5\n",
    "\n",
    "Repeat exercise 4.4 using a list comprehension instead of a function and loop."
   ]
  },
  {
   "cell_type": "code",
   "execution_count": null,
   "id": "3afdb0e9-bdc5-4c49-8b40-ca4057b68cf0",
   "metadata": {},
   "outputs": [],
   "source": []
  }
 ],
 "metadata": {
  "kernelspec": {
   "display_name": "Python 3 (ipykernel)",
   "language": "python",
   "name": "python3"
  },
  "language_info": {
   "codemirror_mode": {
    "name": "ipython",
    "version": 3
   },
   "file_extension": ".py",
   "mimetype": "text/x-python",
   "name": "python",
   "nbconvert_exporter": "python",
   "pygments_lexer": "ipython3",
   "version": "3.10.6"
  }
 },
 "nbformat": 4,
 "nbformat_minor": 5
}
